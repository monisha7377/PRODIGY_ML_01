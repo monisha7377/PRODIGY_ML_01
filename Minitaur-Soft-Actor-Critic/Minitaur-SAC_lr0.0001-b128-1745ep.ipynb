{
  "cells": [
    {
      "cell_type": "code",
      "source": [
        "!git clone https://github.com/Rafael1s/Deep-Reinforcement-Learning-Algorithms.git"
      ],
      "metadata": {
        "id": "Ut2qK270tdms",
        "outputId": "50240ad5-95d0-4b04-da2c-68851542f4eb",
        "colab": {
          "base_uri": "https://localhost:8080/"
        }
      },
      "execution_count": 2,
      "outputs": [
        {
          "output_type": "stream",
          "name": "stdout",
          "text": [
            "Cloning into 'Deep-Reinforcement-Learning-Algorithms'...\n",
            "remote: Enumerating objects: 4050, done.\u001b[K\n",
            "remote: Counting objects: 100% (424/424), done.\u001b[K\n",
            "remote: Compressing objects: 100% (221/221), done.\u001b[K\n",
            "remote: Total 4050 (delta 227), reused 396 (delta 203), pack-reused 3626 (from 1)\u001b[K\n",
            "Receiving objects: 100% (4050/4050), 110.01 MiB | 25.91 MiB/s, done.\n",
            "Resolving deltas: 100% (2423/2423), done.\n"
          ]
        }
      ]
    },
    {
      "cell_type": "code",
      "source": [
        "cd /content/Deep-Reinforcement-Learning-Algorithms/Minitaur-Soft-Actor-Critic"
      ],
      "metadata": {
        "id": "NrG39Iratm5M",
        "outputId": "f9d6ce05-7fbd-487a-d5d7-e7ad1c35bbc5",
        "colab": {
          "base_uri": "https://localhost:8080/"
        }
      },
      "execution_count": 3,
      "outputs": [
        {
          "output_type": "stream",
          "name": "stdout",
          "text": [
            "/content/Deep-Reinforcement-Learning-Algorithms/Minitaur-Soft-Actor-Critic\n"
          ]
        },
        {
          "output_type": "stream",
          "name": "stderr",
          "text": [
            "/usr/local/lib/python3.11/dist-packages/ipykernel/ipkernel.py:283: DeprecationWarning: `should_run_async` will not call `transform_cell` automatically in the future. Please pass the result to `transformed_cell` argument and any exception that happen during thetransform in `preprocessing_exc_tuple` in IPython 7.17 and above.\n",
            "  and should_run_async(code)\n"
          ]
        }
      ]
    },
    {
      "cell_type": "code",
      "source": [
        "!pip install pybullet"
      ],
      "metadata": {
        "id": "QwhVpFNnt44m",
        "outputId": "2e49785b-5062-45bd-a83a-b6634470775e",
        "colab": {
          "base_uri": "https://localhost:8080/"
        }
      },
      "execution_count": 5,
      "outputs": [
        {
          "output_type": "stream",
          "name": "stderr",
          "text": [
            "/usr/local/lib/python3.11/dist-packages/ipykernel/ipkernel.py:283: DeprecationWarning: `should_run_async` will not call `transform_cell` automatically in the future. Please pass the result to `transformed_cell` argument and any exception that happen during thetransform in `preprocessing_exc_tuple` in IPython 7.17 and above.\n",
            "  and should_run_async(code)\n"
          ]
        },
        {
          "output_type": "stream",
          "name": "stdout",
          "text": [
            "Collecting pybullet\n",
            "  Downloading pybullet-3.2.7-cp311-cp311-manylinux_2_17_x86_64.manylinux2014_x86_64.whl.metadata (1.8 kB)\n",
            "Downloading pybullet-3.2.7-cp311-cp311-manylinux_2_17_x86_64.manylinux2014_x86_64.whl (103.2 MB)\n",
            "\u001b[2K   \u001b[90m━━━━━━━━━━━━━━━━━━━━━━━━━━━━━━━━━━━━━━━━\u001b[0m \u001b[32m103.2/103.2 MB\u001b[0m \u001b[31m7.8 MB/s\u001b[0m eta \u001b[36m0:00:00\u001b[0m\n",
            "\u001b[?25hInstalling collected packages: pybullet\n",
            "Successfully installed pybullet-3.2.7\n"
          ]
        }
      ]
    },
    {
      "cell_type": "code",
      "execution_count": 6,
      "metadata": {
        "id": "mVhgTvpMtPIP",
        "outputId": "959ed1c0-8dd6-4a15-82e4-7c0d757db177",
        "colab": {
          "base_uri": "https://localhost:8080/"
        }
      },
      "outputs": [
        {
          "output_type": "stream",
          "name": "stderr",
          "text": [
            "/usr/local/lib/python3.11/dist-packages/gym/envs/registration.py:440: UserWarning: \u001b[33mWARN: The `registry.env_specs` property along with `EnvSpecTree` is deprecated. Please use `registry` directly as a dictionary instead.\u001b[0m\n",
            "  logger.warn(\n",
            "/usr/local/lib/python3.11/dist-packages/pybullet_envs/bullet/cartpole_bullet.py:21: DeprecationWarning: pkg_resources is deprecated as an API. See https://setuptools.pypa.io/en/latest/pkg_resources.html\n",
            "  from pkg_resources import parse_version\n",
            "/usr/local/lib/python3.11/dist-packages/pkg_resources/__init__.py:3154: DeprecationWarning: Deprecated call to `pkg_resources.declare_namespace('google')`.\n",
            "Implementing implicit namespace packages (as specified in PEP 420) is preferred to `pkg_resources.declare_namespace`. See https://setuptools.pypa.io/en/latest/references/keywords.html#keyword-namespace-packages\n",
            "  declare_namespace(pkg)\n",
            "/usr/local/lib/python3.11/dist-packages/pkg_resources/__init__.py:3154: DeprecationWarning: Deprecated call to `pkg_resources.declare_namespace('google.cloud')`.\n",
            "Implementing implicit namespace packages (as specified in PEP 420) is preferred to `pkg_resources.declare_namespace`. See https://setuptools.pypa.io/en/latest/references/keywords.html#keyword-namespace-packages\n",
            "  declare_namespace(pkg)\n",
            "/usr/local/lib/python3.11/dist-packages/pkg_resources/__init__.py:3154: DeprecationWarning: Deprecated call to `pkg_resources.declare_namespace('sphinxcontrib')`.\n",
            "Implementing implicit namespace packages (as specified in PEP 420) is preferred to `pkg_resources.declare_namespace`. See https://setuptools.pypa.io/en/latest/references/keywords.html#keyword-namespace-packages\n",
            "  declare_namespace(pkg)\n"
          ]
        },
        {
          "output_type": "stream",
          "name": "stdout",
          "text": [
            "current_dir=/usr/local/lib/python3.11/dist-packages/pybullet_envs/bullet\n",
            "device:  cpu\n",
            "urdf_root=/usr/local/lib/python3.11/dist-packages/pybullet_data\n"
          ]
        },
        {
          "output_type": "stream",
          "name": "stderr",
          "text": [
            "/usr/local/lib/python3.11/dist-packages/gym/spaces/box.py:128: UserWarning: \u001b[33mWARN: Box bound precision lowered by casting to float32\u001b[0m\n",
            "  logger.warn(f\"Box bound precision lowered by casting to {self.dtype}\")\n",
            "/usr/local/lib/python3.11/dist-packages/gym/core.py:317: DeprecationWarning: \u001b[33mWARN: Initializing wrapper in old step API which returns one bool instead of two. It is recommended to set `new_step_api=True` to use new step API. This will be the default behaviour in future.\u001b[0m\n",
            "  deprecation(\n",
            "/usr/local/lib/python3.11/dist-packages/gym/wrappers/step_api_compatibility.py:39: DeprecationWarning: \u001b[33mWARN: Initializing environment in old step API which returns one bool instead of two. It is recommended to set `new_step_api=True` to use new step API. This will be the default behaviour in future.\u001b[0m\n",
            "  deprecation(\n"
          ]
        },
        {
          "output_type": "stream",
          "name": "stdout",
          "text": [
            "max_steps:  1000\n",
            "device:  cpu\n",
            "leraning rate:  0.0001\n",
            "state_dim:  28 , action_dim:  8\n",
            "threshold:  15.0\n"
          ]
        }
      ],
      "source": [
        "import gym\n",
        "\n",
        "import pybullet_envs\n",
        "import pybullet_envs.bullet as bul\n",
        "import numpy as np\n",
        "import torch\n",
        "from sac_agent import soft_actor_critic_agent, device\n",
        "from replay_memory import ReplayMemory\n",
        "\n",
        "seed=0\n",
        "env = gym.make('MinitaurBulletEnv-v0')\n",
        "torch.manual_seed(seed)\n",
        "np.random.seed(seed)\n",
        "env.seed(seed)\n",
        "max_steps = env._max_episode_steps\n",
        "print('max_steps: ', max_steps)\n",
        "\n",
        "batch_size=128 ##  512\n",
        "LEARNING_RATE=0.0001\n",
        "start_steps=10000 ## Steps sampling random actions\n",
        "replay_size=1000000 ## size of replay buffer\n",
        "\n",
        "agent = soft_actor_critic_agent(env.observation_space.shape[0], env.action_space, \\\n",
        "        hidden_size=256, seed=seed, lr=LEARNING_RATE, gamma=0.99, tau=0.005, alpha=0.2)\n",
        "\n",
        "memory = ReplayMemory(replay_size)\n",
        "\n",
        "print('device: ', device)\n",
        "print('leraning rate: ', LEARNING_RATE)\n",
        "\n",
        "state_dim = env.observation_space.shape[0]\n",
        "action_dim = env.action_space.shape[0]\n",
        "\n",
        "print('state_dim: ',state_dim, ', action_dim: ', action_dim)\n",
        "\n",
        "threshold = env.spec.reward_threshold\n",
        "print('threshold: ', threshold)\n"
      ]
    },
    {
      "cell_type": "code",
      "execution_count": 7,
      "metadata": {
        "id": "gQXbL70GtPIR"
      },
      "outputs": [],
      "source": [
        "def save(agent, directory, filename, episode, reward):\n",
        "    torch.save(agent.policy.state_dict(), '%s/%s_actor_%s_%s.pth' % (directory, filename, episode, reward))\n",
        "    torch.save(agent.critic.state_dict(), '%s/%s_critic_%s_%s.pth' % (directory, filename, episode, reward))"
      ]
    },
    {
      "cell_type": "code",
      "execution_count": 17,
      "metadata": {
        "scrolled": true,
        "id": "MGLKIcxntPIS",
        "outputId": "f90006ae-eac8-4c8a-b374-8c8ea2c73645",
        "colab": {
          "base_uri": "https://localhost:8080/",
          "height": 1000
        }
      },
      "outputs": [
        {
          "output_type": "stream",
          "name": "stderr",
          "text": [
            "/usr/local/lib/python3.11/dist-packages/torch/autograd/graph.py:825: UserWarning: Error detected in AddmmBackward0. Traceback of forward call that caused the error:\n",
            "  File \"<frozen runpy>\", line 198, in _run_module_as_main\n",
            "  File \"<frozen runpy>\", line 88, in _run_code\n",
            "  File \"/usr/local/lib/python3.11/dist-packages/colab_kernel_launcher.py\", line 37, in <module>\n",
            "    ColabKernelApp.launch_instance()\n",
            "  File \"/usr/local/lib/python3.11/dist-packages/traitlets/config/application.py\", line 992, in launch_instance\n",
            "    app.start()\n",
            "  File \"/usr/local/lib/python3.11/dist-packages/ipykernel/kernelapp.py\", line 619, in start\n",
            "    self.io_loop.start()\n",
            "  File \"/usr/local/lib/python3.11/dist-packages/tornado/platform/asyncio.py\", line 205, in start\n",
            "    self.asyncio_loop.run_forever()\n",
            "  File \"/usr/lib/python3.11/asyncio/base_events.py\", line 608, in run_forever\n",
            "    self._run_once()\n",
            "  File \"/usr/lib/python3.11/asyncio/base_events.py\", line 1936, in _run_once\n",
            "    handle._run()\n",
            "  File \"/usr/lib/python3.11/asyncio/events.py\", line 84, in _run\n",
            "    self._context.run(self._callback, *self._args)\n",
            "  File \"/usr/local/lib/python3.11/dist-packages/tornado/ioloop.py\", line 699, in <lambda>\n",
            "    lambda f: self._run_callback(functools.partial(callback, f))\n",
            "  File \"/usr/local/lib/python3.11/dist-packages/tornado/ioloop.py\", line 750, in _run_callback\n",
            "    ret = callback()\n",
            "  File \"/usr/local/lib/python3.11/dist-packages/tornado/gen.py\", line 824, in inner\n",
            "    self.ctx_run(self.run)\n",
            "  File \"/usr/local/lib/python3.11/dist-packages/tornado/gen.py\", line 785, in run\n",
            "    yielded = self.gen.send(value)\n",
            "  File \"/usr/local/lib/python3.11/dist-packages/ipykernel/kernelbase.py\", line 361, in process_one\n",
            "    yield gen.maybe_future(dispatch(*args))\n",
            "  File \"/usr/local/lib/python3.11/dist-packages/tornado/gen.py\", line 233, in wrapper\n",
            "    yielded = ctx_run(next, result)\n",
            "  File \"/usr/local/lib/python3.11/dist-packages/ipykernel/kernelbase.py\", line 261, in dispatch_shell\n",
            "    yield gen.maybe_future(handler(stream, idents, msg))\n",
            "  File \"/usr/local/lib/python3.11/dist-packages/tornado/gen.py\", line 233, in wrapper\n",
            "    yielded = ctx_run(next, result)\n",
            "  File \"/usr/local/lib/python3.11/dist-packages/ipykernel/kernelbase.py\", line 539, in execute_request\n",
            "    self.do_execute(\n",
            "  File \"/usr/local/lib/python3.11/dist-packages/tornado/gen.py\", line 233, in wrapper\n",
            "    yielded = ctx_run(next, result)\n",
            "  File \"/usr/local/lib/python3.11/dist-packages/ipykernel/ipkernel.py\", line 302, in do_execute\n",
            "    res = shell.run_cell(code, store_history=store_history, silent=silent)\n",
            "  File \"/usr/local/lib/python3.11/dist-packages/ipykernel/zmqshell.py\", line 539, in run_cell\n",
            "    return super(ZMQInteractiveShell, self).run_cell(*args, **kwargs)\n",
            "  File \"/usr/local/lib/python3.11/dist-packages/IPython/core/interactiveshell.py\", line 2975, in run_cell\n",
            "    result = self._run_cell(\n",
            "  File \"/usr/local/lib/python3.11/dist-packages/IPython/core/interactiveshell.py\", line 3030, in _run_cell\n",
            "    return runner(coro)\n",
            "  File \"/usr/local/lib/python3.11/dist-packages/IPython/core/async_helpers.py\", line 78, in _pseudo_sync_runner\n",
            "    coro.send(None)\n",
            "  File \"/usr/local/lib/python3.11/dist-packages/IPython/core/interactiveshell.py\", line 3257, in run_cell_async\n",
            "    has_raised = await self.run_ast_nodes(code_ast.body, cell_name,\n",
            "  File \"/usr/local/lib/python3.11/dist-packages/IPython/core/interactiveshell.py\", line 3473, in run_ast_nodes\n",
            "    if (await self.run_code(code, result,  async_=asy)):\n",
            "  File \"/usr/local/lib/python3.11/dist-packages/IPython/core/interactiveshell.py\", line 3553, in run_code\n",
            "    exec(code_obj, self.user_global_ns, self.user_ns)\n",
            "  File \"<ipython-input-17-80ebb16a950c>\", line 89, in <cell line: 0>\n",
            "    scores, avg_scores, avg_numm_steps = sac_train(max_steps=max_steps,\n",
            "  File \"<ipython-input-17-80ebb16a950c>\", line 32, in sac_train\n",
            "    agent.update_parameters(memory, batch_size, updates)\n",
            "  File \"/content/Deep-Reinforcement-Learning-Algorithms/Minitaur-Soft-Actor-Critic/sac_agent.py\", line 174, in update_parameters\n",
            "  File \"/usr/local/lib/python3.11/dist-packages/torch/nn/modules/module.py\", line 1736, in _wrapped_call_impl\n",
            "    return self._call_impl(*args, **kwargs)\n",
            "  File \"/usr/local/lib/python3.11/dist-packages/torch/nn/modules/module.py\", line 1747, in _call_impl\n",
            "    return forward_call(*args, **kwargs)\n",
            "  File \"/content/Deep-Reinforcement-Learning-Algorithms/Minitaur-Soft-Actor-Critic/sac_agent.py\", line 56, in forward\n",
            "    x2 = self.linear6(x2)\n",
            "  File \"/usr/local/lib/python3.11/dist-packages/torch/nn/modules/module.py\", line 1736, in _wrapped_call_impl\n",
            "    return self._call_impl(*args, **kwargs)\n",
            "  File \"/usr/local/lib/python3.11/dist-packages/torch/nn/modules/module.py\", line 1747, in _call_impl\n",
            "    return forward_call(*args, **kwargs)\n",
            "  File \"/usr/local/lib/python3.11/dist-packages/torch/nn/modules/linear.py\", line 125, in forward\n",
            "    return F.linear(input, self.weight, self.bias)\n",
            " (Triggered internally at ../torch/csrc/autograd/python_anomaly_mode.cpp:110.)\n",
            "  return Variable._execution_engine.run_backward(  # Calls into the C++ engine to run the backward pass\n"
          ]
        },
        {
          "output_type": "error",
          "ename": "RuntimeError",
          "evalue": "one of the variables needed for gradient computation has been modified by an inplace operation: [torch.FloatTensor [256, 1]], which is output 0 of AsStridedBackward0, is at version 12; expected version 11 instead. Hint: the backtrace further above shows the operation that failed to compute its gradient. The variable in question was changed in there or anywhere later. Good luck!",
          "traceback": [
            "\u001b[0;31m---------------------------------------------------------------------------\u001b[0m",
            "\u001b[0;31mRuntimeError\u001b[0m                              Traceback (most recent call last)",
            "\u001b[0;32m<ipython-input-17-80ebb16a950c>\u001b[0m in \u001b[0;36m<cell line: 0>\u001b[0;34m()\u001b[0m\n\u001b[1;32m     87\u001b[0m \u001b[0;31m# batch_size = 64     # Your batch size for training\u001b[0m\u001b[0;34m\u001b[0m\u001b[0;34m\u001b[0m\u001b[0m\n\u001b[1;32m     88\u001b[0m \u001b[0;34m\u001b[0m\u001b[0m\n\u001b[0;32m---> 89\u001b[0;31m scores, avg_scores, avg_numm_steps = sac_train(max_steps=max_steps, \n\u001b[0m\u001b[1;32m     90\u001b[0m                                                 \u001b[0mstart_steps\u001b[0m\u001b[0;34m=\u001b[0m\u001b[0mstart_steps\u001b[0m\u001b[0;34m,\u001b[0m\u001b[0;34m\u001b[0m\u001b[0;34m\u001b[0m\u001b[0m\n\u001b[1;32m     91\u001b[0m                                                 \u001b[0mthreshold\u001b[0m\u001b[0;34m=\u001b[0m\u001b[0mthreshold\u001b[0m\u001b[0;34m,\u001b[0m\u001b[0;34m\u001b[0m\u001b[0;34m\u001b[0m\u001b[0m\n",
            "\u001b[0;32m<ipython-input-17-80ebb16a950c>\u001b[0m in \u001b[0;36msac_train\u001b[0;34m(max_steps, start_steps, threshold, env, agent, memory, batch_size)\u001b[0m\n\u001b[1;32m     30\u001b[0m             \u001b[0;32mif\u001b[0m \u001b[0mlen\u001b[0m\u001b[0;34m(\u001b[0m\u001b[0mmemory\u001b[0m\u001b[0;34m)\u001b[0m \u001b[0;34m>\u001b[0m \u001b[0mbatch_size\u001b[0m\u001b[0;34m:\u001b[0m\u001b[0;34m\u001b[0m\u001b[0;34m\u001b[0m\u001b[0m\n\u001b[1;32m     31\u001b[0m                 \u001b[0;31m# Update parameters of all the networks\u001b[0m\u001b[0;34m\u001b[0m\u001b[0;34m\u001b[0m\u001b[0m\n\u001b[0;32m---> 32\u001b[0;31m                 \u001b[0magent\u001b[0m\u001b[0;34m.\u001b[0m\u001b[0mupdate_parameters\u001b[0m\u001b[0;34m(\u001b[0m\u001b[0mmemory\u001b[0m\u001b[0;34m,\u001b[0m \u001b[0mbatch_size\u001b[0m\u001b[0;34m,\u001b[0m \u001b[0mupdates\u001b[0m\u001b[0;34m)\u001b[0m\u001b[0;34m\u001b[0m\u001b[0;34m\u001b[0m\u001b[0m\n\u001b[0m\u001b[1;32m     33\u001b[0m                 \u001b[0mupdates\u001b[0m \u001b[0;34m=\u001b[0m \u001b[0mupdates\u001b[0m\u001b[0;34m+\u001b[0m\u001b[0;36m1\u001b[0m\u001b[0;34m\u001b[0m\u001b[0;34m\u001b[0m\u001b[0m\n\u001b[1;32m     34\u001b[0m \u001b[0;34m\u001b[0m\u001b[0m\n",
            "\u001b[0;32m/content/Deep-Reinforcement-Learning-Algorithms/Minitaur-Soft-Actor-Critic/sac_agent.py\u001b[0m in \u001b[0;36mupdate_parameters\u001b[0;34m(self, memory, batch_size, updates)\u001b[0m\n\u001b[1;32m    186\u001b[0m \u001b[0;34m\u001b[0m\u001b[0m\n\u001b[1;32m    187\u001b[0m         \u001b[0mself\u001b[0m\u001b[0;34m.\u001b[0m\u001b[0mpolicy_optim\u001b[0m\u001b[0;34m.\u001b[0m\u001b[0mzero_grad\u001b[0m\u001b[0;34m(\u001b[0m\u001b[0;34m)\u001b[0m\u001b[0;34m\u001b[0m\u001b[0;34m\u001b[0m\u001b[0m\n\u001b[0;32m--> 188\u001b[0;31m         \u001b[0mpolicy_loss\u001b[0m\u001b[0;34m.\u001b[0m\u001b[0mbackward\u001b[0m\u001b[0;34m(\u001b[0m\u001b[0;34m)\u001b[0m\u001b[0;34m\u001b[0m\u001b[0;34m\u001b[0m\u001b[0m\n\u001b[0m\u001b[1;32m    189\u001b[0m         \u001b[0mself\u001b[0m\u001b[0;34m.\u001b[0m\u001b[0mpolicy_optim\u001b[0m\u001b[0;34m.\u001b[0m\u001b[0mstep\u001b[0m\u001b[0;34m(\u001b[0m\u001b[0;34m)\u001b[0m\u001b[0;34m\u001b[0m\u001b[0;34m\u001b[0m\u001b[0m\n\u001b[1;32m    190\u001b[0m \u001b[0;34m\u001b[0m\u001b[0m\n",
            "\u001b[0;32m/usr/local/lib/python3.11/dist-packages/torch/_tensor.py\u001b[0m in \u001b[0;36mbackward\u001b[0;34m(self, gradient, retain_graph, create_graph, inputs)\u001b[0m\n\u001b[1;32m    579\u001b[0m                 \u001b[0minputs\u001b[0m\u001b[0;34m=\u001b[0m\u001b[0minputs\u001b[0m\u001b[0;34m,\u001b[0m\u001b[0;34m\u001b[0m\u001b[0;34m\u001b[0m\u001b[0m\n\u001b[1;32m    580\u001b[0m             )\n\u001b[0;32m--> 581\u001b[0;31m         torch.autograd.backward(\n\u001b[0m\u001b[1;32m    582\u001b[0m             \u001b[0mself\u001b[0m\u001b[0;34m,\u001b[0m \u001b[0mgradient\u001b[0m\u001b[0;34m,\u001b[0m \u001b[0mretain_graph\u001b[0m\u001b[0;34m,\u001b[0m \u001b[0mcreate_graph\u001b[0m\u001b[0;34m,\u001b[0m \u001b[0minputs\u001b[0m\u001b[0;34m=\u001b[0m\u001b[0minputs\u001b[0m\u001b[0;34m\u001b[0m\u001b[0;34m\u001b[0m\u001b[0m\n\u001b[1;32m    583\u001b[0m         )\n",
            "\u001b[0;32m/usr/local/lib/python3.11/dist-packages/torch/autograd/__init__.py\u001b[0m in \u001b[0;36mbackward\u001b[0;34m(tensors, grad_tensors, retain_graph, create_graph, grad_variables, inputs)\u001b[0m\n\u001b[1;32m    345\u001b[0m     \u001b[0;31m# some Python versions print out the first line of a multi-line function\u001b[0m\u001b[0;34m\u001b[0m\u001b[0;34m\u001b[0m\u001b[0m\n\u001b[1;32m    346\u001b[0m     \u001b[0;31m# calls in the traceback and some print out the last line\u001b[0m\u001b[0;34m\u001b[0m\u001b[0;34m\u001b[0m\u001b[0m\n\u001b[0;32m--> 347\u001b[0;31m     _engine_run_backward(\n\u001b[0m\u001b[1;32m    348\u001b[0m         \u001b[0mtensors\u001b[0m\u001b[0;34m,\u001b[0m\u001b[0;34m\u001b[0m\u001b[0;34m\u001b[0m\u001b[0m\n\u001b[1;32m    349\u001b[0m         \u001b[0mgrad_tensors_\u001b[0m\u001b[0;34m,\u001b[0m\u001b[0;34m\u001b[0m\u001b[0;34m\u001b[0m\u001b[0m\n",
            "\u001b[0;32m/usr/local/lib/python3.11/dist-packages/torch/autograd/graph.py\u001b[0m in \u001b[0;36m_engine_run_backward\u001b[0;34m(t_outputs, *args, **kwargs)\u001b[0m\n\u001b[1;32m    823\u001b[0m         \u001b[0munregister_hooks\u001b[0m \u001b[0;34m=\u001b[0m \u001b[0m_register_logging_hooks_on_whole_graph\u001b[0m\u001b[0;34m(\u001b[0m\u001b[0mt_outputs\u001b[0m\u001b[0;34m)\u001b[0m\u001b[0;34m\u001b[0m\u001b[0;34m\u001b[0m\u001b[0m\n\u001b[1;32m    824\u001b[0m     \u001b[0;32mtry\u001b[0m\u001b[0;34m:\u001b[0m\u001b[0;34m\u001b[0m\u001b[0;34m\u001b[0m\u001b[0m\n\u001b[0;32m--> 825\u001b[0;31m         return Variable._execution_engine.run_backward(  # Calls into the C++ engine to run the backward pass\n\u001b[0m\u001b[1;32m    826\u001b[0m             \u001b[0mt_outputs\u001b[0m\u001b[0;34m,\u001b[0m \u001b[0;34m*\u001b[0m\u001b[0margs\u001b[0m\u001b[0;34m,\u001b[0m \u001b[0;34m**\u001b[0m\u001b[0mkwargs\u001b[0m\u001b[0;34m\u001b[0m\u001b[0;34m\u001b[0m\u001b[0m\n\u001b[1;32m    827\u001b[0m         )  # Calls into the C++ engine to run the backward pass\n",
            "\u001b[0;31mRuntimeError\u001b[0m: one of the variables needed for gradient computation has been modified by an inplace operation: [torch.FloatTensor [256, 1]], which is output 0 of AsStridedBackward0, is at version 12; expected version 11 instead. Hint: the backtrace further above shows the operation that failed to compute its gradient. The variable in question was changed in there or anywhere later. Good luck!"
          ]
        }
      ],
      "source": [
        "import time\n",
        "import numpy as np\n",
        "from collections import deque\n",
        "\n",
        "def sac_train(max_steps, start_steps, threshold, env, agent, memory, batch_size):\n",
        "\n",
        "    total_numsteps = 0\n",
        "    updates = 0\n",
        "    num_episodes = 40000\n",
        "\n",
        "    time_start = time.time()\n",
        "    scores_deque = deque(maxlen=100)\n",
        "    scores_array = []\n",
        "    avg_scores_array = []\n",
        "    num_steps_deque = deque(maxlen=100)\n",
        "    avg_numm_steps_array = []\n",
        "\n",
        "    for i_episode in range(num_episodes):\n",
        "        episode_reward = 0\n",
        "        episode_steps = 0\n",
        "        done = False\n",
        "        state = env.reset()\n",
        "\n",
        "        for step in range(max_steps):\n",
        "            if start_steps > total_numsteps:\n",
        "                action = env.action_space.sample()  # Sample random action\n",
        "            else:\n",
        "                action = agent.select_action(state)  # Sample action from policy\n",
        "\n",
        "            if len(memory) > batch_size:\n",
        "                # Update parameters of all the networks\n",
        "                agent.update_parameters(memory, batch_size, updates)\n",
        "                updates = updates + 1\n",
        "\n",
        "            next_state, reward, done, _ = env.step(action)  # Step\n",
        "            episode_steps = episode_steps + 1\n",
        "            total_numsteps = total_numsteps + 1\n",
        "            episode_reward = episode_reward + reward\n",
        "\n",
        "            mask = 1 if episode_steps == env._max_episode_steps else float(not done)\n",
        "\n",
        "            memory.push(state, action, reward, next_state, mask)  # Append transition to memory\n",
        "\n",
        "            state = next_state\n",
        "\n",
        "            if done:\n",
        "                break\n",
        "\n",
        "        scores_deque.append(episode_reward)\n",
        "        scores_array.append(episode_reward)\n",
        "        avg_score = np.mean(scores_deque)\n",
        "        avg_scores_array.append(avg_score)\n",
        "        min_score = np.min(scores_deque)\n",
        "        max_score = np.max(scores_deque)\n",
        "        num_steps_deque.append(episode_steps)\n",
        "        avg_num_steps = np.mean(num_steps_deque)\n",
        "        avg_numm_steps_array.append(avg_num_steps)\n",
        "\n",
        "        # Saving the model every 500 episodes\n",
        "        if i_episode % 500 == 0 and i_episode > 0:\n",
        "            reward_round = round(episode_reward, 2)\n",
        "            save(agent, 'dir_lr0.0001', 'weights', str(i_episode), str(reward_round))\n",
        "\n",
        "        s = int(time.time() - time_start)\n",
        "\n",
        "        # Displaying the progress every 10 episodes\n",
        "        if i_episode % 10 == 0 and i_episode > 0:\n",
        "            print(\"Ep.: {}, Tot.St.: {}, Avg.Num.St.: {:.1f}, Min-Max.Sc.: ({:.2f}, {:.2f}), Avg.Score: {:.3f}, Time: {:02}:{:02}:{:02}\".\\\n",
        "                format(i_episode, total_numsteps, avg_num_steps, min_score, max_score, avg_score, \\\n",
        "                  s//3600, s%3600//60, s%60))\n",
        "\n",
        "        # Checking if the environment is solved\n",
        "        if avg_score >= threshold:\n",
        "            print('Solved environment with Avg Score:  ', avg_score)\n",
        "            break\n",
        "\n",
        "    return scores_array, avg_scores_array, avg_numm_steps_array\n",
        "\n",
        "# Example call to `sac_train` function\n",
        "# Ensure you have the following variables initialized\n",
        "# start_steps = 1000  # e.g., number of random actions before starting training\n",
        "# max_steps = 1000    # e.g., maximum steps per episode\n",
        "# threshold = 300     # e.g., score threshold to consider environment solved\n",
        "# env = ...           # Your environment (e.g., OpenAI Gym environment)\n",
        "# agent = ...         # Your agent (e.g., SAC agent)\n",
        "# memory = ...        # Your replay buffer\n",
        "# batch_size = 64     # Your batch size for training\n",
        "\n",
        "scores, avg_scores, avg_numm_steps = sac_train(max_steps=max_steps,\n",
        "                                                start_steps=start_steps,\n",
        "                                                threshold=threshold,\n",
        "                                                env=env,\n",
        "                                                agent=agent,\n",
        "                                                memory=memory,\n",
        "                                                batch_size=batch_size)\n"
      ]
    },
    {
      "cell_type": "code",
      "execution_count": null,
      "metadata": {
        "id": "iBNHEMLFtPIS"
      },
      "outputs": [],
      "source": [
        "reward_round = round(np.max(scores), 2)\n",
        "save(agent, 'dir_lr0.0001', 'weights', 'final', str(reward_round))"
      ]
    },
    {
      "cell_type": "code",
      "execution_count": null,
      "metadata": {
        "id": "7asSXdIVtPIT",
        "outputId": "197092ba-ab61-450e-e6f4-dc3a9ef49975"
      },
      "outputs": [
        {
          "name": "stdout",
          "output_type": "stream",
          "text": [
            "length of scores:  1745 , len of avg_scores:  1745\n"
          ]
        },
        {
          "data": {
            "image/png": "[encoded data removed]",
            "text/plain": [
              "<Figure size 432x288 with 1 Axes>"
            ]
          },
          "metadata": {
            "needs_background": "light"
          },
          "output_type": "display_data"
        }
      ],
      "source": [
        "import matplotlib.pyplot as plt\n",
        "%matplotlib inline\n",
        "\n",
        "print('length of scores: ', len(scores), ', len of avg_scores: ', len(avg_scores))\n",
        "\n",
        "fig = plt.figure()\n",
        "ax = fig.add_subplot(111)\n",
        "plt.plot(np.arange(1, len(scores)+1), scores, label=\"Score\")\n",
        "plt.plot(np.arange(1, len(avg_scores)+1), avg_scores, label=\"Avg.Score on 100 episodes\")\n",
        "## plt.plot(np.arange(1, len(avg_numm_steps)+1), avg_numm_steps, label=\"Avg.Num.Steps on 100 episodes\")\n",
        "plt.legend(bbox_to_anchor=(1.05, 1))\n",
        "plt.ylabel('Score')\n",
        "plt.xlabel('Episodes #')\n",
        "plt.show()"
      ]
    },
    {
      "cell_type": "code",
      "execution_count": null,
      "metadata": {
        "id": "ArSIfvOztPIT",
        "outputId": "3c10aa54-ae83-4b21-85f3-7609374b23b6"
      },
      "outputs": [
        {
          "data": {
            "image/png": "[encoded data removed]",
            "text/plain": [
              "<Figure size 432x288 with 1 Axes>"
            ]
          },
          "metadata": {
            "needs_background": "light"
          },
          "output_type": "display_data"
        }
      ],
      "source": [
        "fig2 = plt.figure()\n",
        "ax = fig2.add_subplot(111)\n",
        "# plt.plot(np.arange(1, len(scores)+1), scores, label=\"Score\")\n",
        "# plt.plot(np.arange(1, len(avg_scores)+1), avg_scores, label=\"Avg.Score on 100 episodes\")\n",
        "plt.plot(np.arange(1, len(avg_numm_steps)+1), avg_numm_steps, label=\"Avg.Num.Steps on 100 episodes\")\n",
        "plt.legend(bbox_to_anchor=(1.05, 1))\n",
        "plt.ylabel('Num.Steps')\n",
        "plt.xlabel('Episodes #')\n",
        "plt.show()"
      ]
    },
    {
      "cell_type": "code",
      "execution_count": null,
      "metadata": {
        "id": "3aEpqTR3tPIU"
      },
      "outputs": [],
      "source": [
        "def play(env, agent, num_episodes):\n",
        "\n",
        "    state = env.reset()\n",
        "    scores_deque = deque(maxlen=100)\n",
        "    scores = []\n",
        "\n",
        "    for i_episode in range(num_episodes + 1):\n",
        "\n",
        "        state = env.reset()\n",
        "        score = 0\n",
        "        time_start = time.time()\n",
        "\n",
        "        while True:\n",
        "\n",
        "            action = agent.select_action(state, eval=False)\n",
        "            env.render()\n",
        "            next_state, reward, done, _ = env.step(action)\n",
        "            score += reward\n",
        "            state = next_state\n",
        "\n",
        "            if done:\n",
        "                break\n",
        "\n",
        "        s = (int)(time.time() - time_start)\n",
        "\n",
        "        scores_deque.append(score)\n",
        "        scores.append(score)\n",
        "\n",
        "        print('Episode {}\\tAverage Score: {:.2f},\\tScore: {:.2f} \\tTime: {:02}:{:02}:{:02}'\\\n",
        "                  .format(i_episode, np.mean(scores_deque), score, s//3600, s%3600//60, s%60))\n",
        ""
      ]
    },
    {
      "cell_type": "code",
      "execution_count": null,
      "metadata": {
        "id": "_R5Q2yHztPIU"
      },
      "outputs": [],
      "source": [
        "#import pybullet_envs.bullet.minitaur_gym_env as e\n",
        "#env_render = e.MinitaurBulletEnv(render=True)\n",
        "#play(env=env_render, agent=agent, num_episodes=5)"
      ]
    },
    {
      "cell_type": "code",
      "execution_count": null,
      "metadata": {
        "id": "G_7DqXLutPIV"
      },
      "outputs": [],
      "source": [
        "env.close()"
      ]
    },
    {
      "cell_type": "code",
      "execution_count": null,
      "metadata": {
        "id": "u5pVYYJOtPIV"
      },
      "outputs": [],
      "source": []
    }
  ],
  "metadata": {
    "kernelspec": {
      "display_name": "ml2-kernel",
      "language": "python",
      "name": "ml2-kernel"
    },
    "language_info": {
      "codemirror_mode": {
        "name": "ipython",
        "version": 3
      },
      "file_extension": ".py",
      "mimetype": "text/x-python",
      "name": "python",
      "nbconvert_exporter": "python",
      "pygments_lexer": "ipython3",
      "version": "3.7.3"
    },
    "colab": {
      "provenance": []
    }
  },
  "nbformat": 4,
  "nbformat_minor": 0
}